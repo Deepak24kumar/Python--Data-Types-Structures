{
  "nbformat": 4,
  "nbformat_minor": 0,
  "metadata": {
    "colab": {
      "provenance": []
    },
    "kernelspec": {
      "name": "python3",
      "display_name": "Python 3"
    },
    "language_info": {
      "name": "python"
    }
  },
  "cells": [
    {
      "cell_type": "markdown",
      "source": [
        "Theory Questions"
      ],
      "metadata": {
        "id": "KC-GVL7GilqK"
      }
    },
    {
      "cell_type": "markdown",
      "source": [
        "1. What are data structures, and why are they important?\n",
        "\n",
        "Ans 1. Data structures are specialized formats for organizing, processing, and storing data. They are essential because they enable efficient access and modification of data, which is crucial for building fast and optimized algorithms."
      ],
      "metadata": {
        "id": "VMYAX-p0iUU6"
      }
    },
    {
      "cell_type": "markdown",
      "source": [
        "2. Explain the difference between mutable and immutable data types with examples?\n",
        "\n",
        "- Mutable types can be changed after creation. Example: list, dict, set.\n",
        "\n",
        "- Immutable types cannot be changed once created. Example: int, str, tuple."
      ],
      "metadata": {
        "id": "O9SheUL5i76U"
      }
    },
    {
      "cell_type": "code",
      "source": [
        "my_list = [1, 2, 3]  # Mutable\n",
        "my_tuple = (1, 2, 3)  # Immutable"
      ],
      "metadata": {
        "id": "ROtftuIOjP2S"
      },
      "execution_count": null,
      "outputs": []
    },
    {
      "cell_type": "markdown",
      "source": [
        "3. What are the main differences between lists and tuples in Python?\n",
        "\n",
        "Ans 3.\n",
        "- Lists are mutable, whereas tuples are immutable.\n",
        "\n",
        "- Lists use square brackets []; tuples use parentheses ().\n",
        "\n",
        "- Tuples are generally faster and used for fixed data."
      ],
      "metadata": {
        "id": "QOl6vgRzjRJh"
      }
    },
    {
      "cell_type": "markdown",
      "source": [
        "4. Describe how dictionaries store data.\n",
        "\n",
        "Ans 4. Dictionaries store data as key-value pairs. Each key maps to a value, and keys must be unique and hashable."
      ],
      "metadata": {
        "id": "WOFTPcWGjmcm"
      }
    },
    {
      "cell_type": "markdown",
      "source": [
        "5. Why might you use a set instead of a list in Python?\n",
        "\n",
        "Ans 5. Sets automatically discard duplicates and offer faster membership tests (in keyword), making them ideal when uniqueness is needed."
      ],
      "metadata": {
        "id": "sQ4w4ouTw2Cv"
      }
    },
    {
      "cell_type": "markdown",
      "source": [
        "6. What is a string in Python, and how is it different from a list?\n",
        "\n",
        "Ans 6. A string is a sequence of characters and is immutable. A list is a sequence that can hold items of different data types and is mutable."
      ],
      "metadata": {
        "id": "n_cj-iHWw6uX"
      }
    },
    {
      "cell_type": "markdown",
      "source": [
        "7. How do tuples ensure data integrity in Python?\n",
        "\n",
        "Ans 7. Since tuples are immutable, their contents cannot be changed, reducing accidental modifications and ensuring data stability."
      ],
      "metadata": {
        "id": "FtvFsey9xCrG"
      }
    },
    {
      "cell_type": "markdown",
      "source": [
        "8. What is a hash table, and how does it relate to dictionaries in Python?\n",
        "\n",
        "Ans 8. A hash table maps keys to values using a hash function. Python dictionaries are built using hash tables for fast key-based data access."
      ],
      "metadata": {
        "id": "aFmFDTCExImz"
      }
    },
    {
      "cell_type": "markdown",
      "source": [
        "9. Can lists contain different data types in Python?\n",
        "\n",
        "Ans 9. Yes, Python lists can hold a mix of data types like integers, strings, and even other lists.\n",
        "\n"
      ],
      "metadata": {
        "id": "lur96hWeyp0q"
      }
    },
    {
      "cell_type": "markdown",
      "source": [
        "10. Explain why strings are immutable in Python?\n",
        "\n",
        "Ans 10. Strings are immutable for memory efficiency and thread safety. Any operation on a string returns a new object rather than modifying the original."
      ],
      "metadata": {
        "id": "Nq8hRCz_ysmK"
      }
    },
    {
      "cell_type": "markdown",
      "source": [
        "11. What advantages do dictionaries offer over lists for certain tasks?\n",
        "\n",
        "Ans 11. Dictionaries provide quick access via keys and are better for associative data, whereas lists require iteration to find items."
      ],
      "metadata": {
        "id": "mNfiiPXTyxJC"
      }
    },
    {
      "cell_type": "markdown",
      "source": [
        "12. Describe a scenario where using a tuple would be preferable over a list?\n",
        "\n",
        "Ans 12. Tuples are preferable when data should remain constant, like fixed coordinates (x, y) or function return values that shouldn't change."
      ],
      "metadata": {
        "id": "zB1-uWjizXo1"
      }
    },
    {
      "cell_type": "markdown",
      "source": [
        "13. How do sets handle duplicate values in Python?\n",
        "\n",
        "Ans 13. Sets automatically eliminate duplicates, storing each item only once regardless of how many times it’s added."
      ],
      "metadata": {
        "id": "EsV3UxmDzduE"
      }
    },
    {
      "cell_type": "markdown",
      "source": [
        "14. How does the “in” keyword work differently for lists and dictionaries?\n",
        "\n",
        "Ans 14.\n",
        "- In lists, it checks for the presence of a value.\n",
        "\n",
        "- In dictionaries, it checks for the presence of a key."
      ],
      "metadata": {
        "id": "SqIPratwzlep"
      }
    },
    {
      "cell_type": "markdown",
      "source": [
        "15. Can you modify the elements of a tuple? Explain why or why not?\n",
        "\n",
        "Ans 15. No, tuples are immutable. Once created, their elements cannot be changed, added, or removed."
      ],
      "metadata": {
        "id": "1HW-hiSCzteZ"
      }
    },
    {
      "cell_type": "markdown",
      "source": [],
      "metadata": {
        "id": "03_PVHAez2m4"
      }
    },
    {
      "cell_type": "markdown",
      "source": [
        "16. What is a nested dictionary, and give an example of its use case?\n",
        "\n",
        "A nested dictionary is a dictionary inside another dictionary.\n",
        "Example:"
      ],
      "metadata": {
        "id": "2r_Gvahnz5jL"
      }
    },
    {
      "cell_type": "code",
      "source": [
        "student = {\"name\": \"Alice\", \"marks\": {\"math\": 90, \"science\": 85}}\n"
      ],
      "metadata": {
        "id": "DGsKILVrz-7m"
      },
      "execution_count": null,
      "outputs": []
    },
    {
      "cell_type": "markdown",
      "source": [
        "17. Describe the time complexity of accessing elements in a dictionary?\n",
        "\n",
        "Ans 17. On average, accessing elements by key in a dictionary has O(1) time complexity due to its hash table implementation."
      ],
      "metadata": {
        "id": "6IkoTnu1z_tT"
      }
    },
    {
      "cell_type": "markdown",
      "source": [
        "18. In what situations are lists preferred over dictionaries?\n",
        "\n",
        "Ans 18. Lists are preferred when the order of items matters or when items don’t need unique keys."
      ],
      "metadata": {
        "id": "V21HJpyO0Hvo"
      }
    },
    {
      "cell_type": "markdown",
      "source": [
        "19. Why are dictionaries considered unordered, and how does that affect data retrieval?\n",
        "\n",
        "Ans 19. Dictionaries (before Python 3.7) didn’t maintain insertion order. While modern versions do, retrieval is still key-based and not index-based."
      ],
      "metadata": {
        "id": "lhbLgrq20Q3c"
      }
    },
    {
      "cell_type": "markdown",
      "source": [
        "20. Explain the difference between a list and a dictionary in terms of data retrieval.\n",
        "\n",
        "Ans 20.\n",
        "- List: retrieve by index (e.g., my_list[0]).\n",
        "\n",
        "- Dictionary: retrieve by key (e.g., my_dict['key'])."
      ],
      "metadata": {
        "id": "OVRA6J-80Wfj"
      }
    },
    {
      "cell_type": "markdown",
      "source": [
        "Practical Questions\n"
      ],
      "metadata": {
        "id": "9igN1AIc0i5A"
      }
    },
    {
      "cell_type": "markdown",
      "source": [
        "1. Write a code to create a string with your name and print it?"
      ],
      "metadata": {
        "id": "P0XBdtIw0oXo"
      }
    },
    {
      "cell_type": "code",
      "source": [
        "name = \"Deepak\"\n",
        "print(name)"
      ],
      "metadata": {
        "colab": {
          "base_uri": "https://localhost:8080/"
        },
        "id": "SQzKi7cI0sjq",
        "outputId": "dc2b0201-0d7b-421d-9b79-12882bd7405e"
      },
      "execution_count": 2,
      "outputs": [
        {
          "output_type": "stream",
          "name": "stdout",
          "text": [
            "Deepak\n"
          ]
        }
      ]
    },
    {
      "cell_type": "markdown",
      "source": [
        "2. Write a code to find the length of the string \"Hello World\"?"
      ],
      "metadata": {
        "id": "f4LPC5qh0vK0"
      }
    },
    {
      "cell_type": "code",
      "source": [
        "print(len(\"Hello World\"))"
      ],
      "metadata": {
        "colab": {
          "base_uri": "https://localhost:8080/"
        },
        "id": "UI91Xk7E0y4C",
        "outputId": "f11feaac-4cd2-4517-a30a-ef110dc9ff6d"
      },
      "execution_count": 3,
      "outputs": [
        {
          "output_type": "stream",
          "name": "stdout",
          "text": [
            "11\n"
          ]
        }
      ]
    },
    {
      "cell_type": "markdown",
      "source": [
        "3. Write a code to slice the first 3 characters from the string \"Python Programming\"?"
      ],
      "metadata": {
        "id": "hIzm6qKF03MW"
      }
    },
    {
      "cell_type": "code",
      "source": [
        "print(\"Python Programming\"[:3])"
      ],
      "metadata": {
        "colab": {
          "base_uri": "https://localhost:8080/"
        },
        "id": "qaVEwdRu07JD",
        "outputId": "1c0aba95-c259-4590-cac2-f4d82013d90f"
      },
      "execution_count": 4,
      "outputs": [
        {
          "output_type": "stream",
          "name": "stdout",
          "text": [
            "Pyt\n"
          ]
        }
      ]
    },
    {
      "cell_type": "markdown",
      "source": [
        "4. Write a code to convert the string \"hello\" to uppercase?"
      ],
      "metadata": {
        "id": "FAjdomIv094r"
      }
    },
    {
      "cell_type": "code",
      "source": [
        "print(\"hello\".upper())"
      ],
      "metadata": {
        "colab": {
          "base_uri": "https://localhost:8080/"
        },
        "id": "vizCVIxe1BNU",
        "outputId": "0407171b-066d-4fcf-b8d3-8c8b9ff565f2"
      },
      "execution_count": 5,
      "outputs": [
        {
          "output_type": "stream",
          "name": "stdout",
          "text": [
            "HELLO\n"
          ]
        }
      ]
    },
    {
      "cell_type": "markdown",
      "source": [
        "5. Write a code to replace the word \"apple\" with \"orange\" in the string \"I like apple\"?"
      ],
      "metadata": {
        "id": "Co7x048i1D8U"
      }
    },
    {
      "cell_type": "code",
      "source": [
        "print(\"I like apple\".replace(\"apple\", \"orange\"))"
      ],
      "metadata": {
        "colab": {
          "base_uri": "https://localhost:8080/"
        },
        "id": "Popt0Dw71IB5",
        "outputId": "194823db-b79f-4dd7-f309-edb5d8fffb6e"
      },
      "execution_count": 6,
      "outputs": [
        {
          "output_type": "stream",
          "name": "stdout",
          "text": [
            "I like orange\n"
          ]
        }
      ]
    },
    {
      "cell_type": "markdown",
      "source": [
        "6. Write a code to create a list with numbers 1 to 5 and print it?"
      ],
      "metadata": {
        "id": "DwsU_32_1K9A"
      }
    },
    {
      "cell_type": "code",
      "source": [
        "numbers = [1, 2, 3, 4, 5]\n",
        "print(numbers)"
      ],
      "metadata": {
        "colab": {
          "base_uri": "https://localhost:8080/"
        },
        "id": "Y0VMyNna1OV3",
        "outputId": "9c91c06f-9aa6-4adf-cb2d-44a3eff4a6a5"
      },
      "execution_count": 7,
      "outputs": [
        {
          "output_type": "stream",
          "name": "stdout",
          "text": [
            "[1, 2, 3, 4, 5]\n"
          ]
        }
      ]
    },
    {
      "cell_type": "markdown",
      "source": [
        "7. Write a code to append the number 10 to the list [1, 2, 3, 4]?"
      ],
      "metadata": {
        "id": "C81PvXXk1Qmt"
      }
    },
    {
      "cell_type": "code",
      "source": [
        "lst = [1, 2, 3, 4]\n",
        "lst.append(10)\n",
        "print(lst)"
      ],
      "metadata": {
        "colab": {
          "base_uri": "https://localhost:8080/"
        },
        "id": "PbfetF581ULW",
        "outputId": "54bb019a-42de-4d8a-deeb-a9dce224e803"
      },
      "execution_count": 8,
      "outputs": [
        {
          "output_type": "stream",
          "name": "stdout",
          "text": [
            "[1, 2, 3, 4, 10]\n"
          ]
        }
      ]
    },
    {
      "cell_type": "markdown",
      "source": [
        "8. Write a code to remove the number 3 from the list [1, 2, 3, 4, 5]?"
      ],
      "metadata": {
        "id": "aCTEMK0T1Wra"
      }
    },
    {
      "cell_type": "code",
      "source": [
        "lst = [1, 2, 3, 4, 5]\n",
        "lst.remove(3)\n",
        "print(lst)"
      ],
      "metadata": {
        "colab": {
          "base_uri": "https://localhost:8080/"
        },
        "id": "vqsSpoTl1adt",
        "outputId": "8febe830-8740-4ef0-ff6b-33131e36fc4d"
      },
      "execution_count": 9,
      "outputs": [
        {
          "output_type": "stream",
          "name": "stdout",
          "text": [
            "[1, 2, 4, 5]\n"
          ]
        }
      ]
    },
    {
      "cell_type": "markdown",
      "source": [
        "9. Write a code to access the second element in the list ['a', 'b', 'c', 'd']?"
      ],
      "metadata": {
        "id": "aO8ak1Kn1c91"
      }
    },
    {
      "cell_type": "code",
      "source": [
        "letters = ['a', 'b', 'c', 'd']\n",
        "print(letters[1])"
      ],
      "metadata": {
        "colab": {
          "base_uri": "https://localhost:8080/"
        },
        "id": "GBRcSfT_1gIs",
        "outputId": "ac4ec715-8c59-4db8-ee73-96c352a55ae1"
      },
      "execution_count": 10,
      "outputs": [
        {
          "output_type": "stream",
          "name": "stdout",
          "text": [
            "b\n"
          ]
        }
      ]
    },
    {
      "cell_type": "markdown",
      "source": [
        "10. Write a code to reverse the list [10, 20, 30, 40, 50]?"
      ],
      "metadata": {
        "id": "kYcZijvj1i1N"
      }
    },
    {
      "cell_type": "code",
      "source": [
        "Mylist = [10, 20, 30, 40, 50]\n",
        "Mylist.reverse()\n",
        "print(lst)"
      ],
      "metadata": {
        "colab": {
          "base_uri": "https://localhost:8080/"
        },
        "id": "39b52CsP1lku",
        "outputId": "65c2c46e-456e-4d97-98bb-884e96da3e22"
      },
      "execution_count": 12,
      "outputs": [
        {
          "output_type": "stream",
          "name": "stdout",
          "text": [
            "[50, 40, 30, 20, 10]\n"
          ]
        }
      ]
    },
    {
      "cell_type": "markdown",
      "source": [
        "11. Write a code to create a tuple with the elements 100, 200, 300 and print it?"
      ],
      "metadata": {
        "id": "nrNtAhvJ1oQp"
      }
    },
    {
      "cell_type": "code",
      "source": [
        "tup = (100, 200, 300)\n",
        "print(tup)"
      ],
      "metadata": {
        "colab": {
          "base_uri": "https://localhost:8080/"
        },
        "id": "ee0pr1zG1tH6",
        "outputId": "21c854b5-683f-4b1f-96df-9e4c5d5bf949"
      },
      "execution_count": 13,
      "outputs": [
        {
          "output_type": "stream",
          "name": "stdout",
          "text": [
            "(100, 200, 300)\n"
          ]
        }
      ]
    },
    {
      "cell_type": "markdown",
      "source": [
        "12. Write a code to access the second-to-last element of the tuple ('red', 'green', 'blue', 'yellow')?"
      ],
      "metadata": {
        "id": "QERssXnk1uP3"
      }
    },
    {
      "cell_type": "code",
      "source": [
        "colors = ('red', 'green', 'blue', 'yellow')\n",
        "print(colors[-2])"
      ],
      "metadata": {
        "colab": {
          "base_uri": "https://localhost:8080/"
        },
        "id": "YXjQ6qfz1x0g",
        "outputId": "8c818ff3-1a2c-4c9d-ac82-998166432988"
      },
      "execution_count": 14,
      "outputs": [
        {
          "output_type": "stream",
          "name": "stdout",
          "text": [
            "blue\n"
          ]
        }
      ]
    },
    {
      "cell_type": "markdown",
      "source": [
        "13. Write a code to find the minimum number in the tuple (10, 20, 5, 15)?"
      ],
      "metadata": {
        "id": "IzFrUp7q10Mf"
      }
    },
    {
      "cell_type": "code",
      "source": [
        "nums = (10, 20, 5, 15)\n",
        "print(min(nums))"
      ],
      "metadata": {
        "colab": {
          "base_uri": "https://localhost:8080/"
        },
        "id": "nzymQaCA14J2",
        "outputId": "43d1771b-8be1-4f5e-b5ea-b6da4c92eebe"
      },
      "execution_count": 15,
      "outputs": [
        {
          "output_type": "stream",
          "name": "stdout",
          "text": [
            "5\n"
          ]
        }
      ]
    },
    {
      "cell_type": "markdown",
      "source": [
        "14.  Write a code to find the index of the element \"cat\" in the tuple ('dog', 'cat', 'rabbit')?"
      ],
      "metadata": {
        "id": "1rXqKxin16cn"
      }
    },
    {
      "cell_type": "code",
      "source": [
        "animals = ('dog', 'cat', 'rabbit')\n",
        "print(animals.index(\"cat\"))"
      ],
      "metadata": {
        "colab": {
          "base_uri": "https://localhost:8080/"
        },
        "id": "PlWyB_9I1-cE",
        "outputId": "1a4e193a-e19a-45a2-c923-9359ee646a2d"
      },
      "execution_count": 16,
      "outputs": [
        {
          "output_type": "stream",
          "name": "stdout",
          "text": [
            "1\n"
          ]
        }
      ]
    },
    {
      "cell_type": "markdown",
      "source": [
        "15. Write a code to create a tuple containing three different fruits and check if \"kiwi\" is in it?"
      ],
      "metadata": {
        "id": "PZH2jUZE2AuE"
      }
    },
    {
      "cell_type": "code",
      "source": [
        "fruits = (\"apple\", \"banana\", \"kiwi\")\n",
        "print(\"kiwi\" in fruits)"
      ],
      "metadata": {
        "colab": {
          "base_uri": "https://localhost:8080/"
        },
        "id": "UKIEcumY2EV0",
        "outputId": "b0710370-4c00-4aa8-d319-420128de7719"
      },
      "execution_count": 18,
      "outputs": [
        {
          "output_type": "stream",
          "name": "stdout",
          "text": [
            "True\n"
          ]
        }
      ]
    },
    {
      "cell_type": "markdown",
      "source": [
        "16. Write a code to create a set with the elements 'a', 'b', 'c' and print it?"
      ],
      "metadata": {
        "id": "Qfq2oz5I2Gxl"
      }
    },
    {
      "cell_type": "code",
      "source": [
        "my_set = {'a', 'b', 'c'}\n",
        "print(my_set)"
      ],
      "metadata": {
        "colab": {
          "base_uri": "https://localhost:8080/"
        },
        "id": "YTgUqN9L2Kc9",
        "outputId": "e2a78428-ec1f-428f-ce0a-38f2697085fe"
      },
      "execution_count": 19,
      "outputs": [
        {
          "output_type": "stream",
          "name": "stdout",
          "text": [
            "{'a', 'b', 'c'}\n"
          ]
        }
      ]
    },
    {
      "cell_type": "markdown",
      "source": [
        "17. Write a code to clear all elements from the set {1, 2, 3, 4, 5}?"
      ],
      "metadata": {
        "id": "NJ0i0XoY2M6z"
      }
    },
    {
      "cell_type": "code",
      "source": [
        "list = {1, 2, 3, 4, 5}\n",
        "list.clear()\n",
        "print(s)"
      ],
      "metadata": {
        "colab": {
          "base_uri": "https://localhost:8080/"
        },
        "id": "EPeF5oY92Qcy",
        "outputId": "9f1cca8c-9cbd-4eab-dbff-602b73c1b743"
      },
      "execution_count": 21,
      "outputs": [
        {
          "output_type": "stream",
          "name": "stdout",
          "text": [
            "set()\n"
          ]
        }
      ]
    },
    {
      "cell_type": "markdown",
      "source": [
        "18. Write a code to remove the element 4 from the set {1, 2, 3, 4}?"
      ],
      "metadata": {
        "id": "LjT6wxNg2Sd3"
      }
    },
    {
      "cell_type": "code",
      "source": [
        "s = {1, 2, 3, 4}\n",
        "s.remove(4)\n",
        "print(s)"
      ],
      "metadata": {
        "colab": {
          "base_uri": "https://localhost:8080/"
        },
        "id": "FdB9TpCs2WdS",
        "outputId": "5c218d63-7551-4951-fb96-92b8969d18a6"
      },
      "execution_count": 22,
      "outputs": [
        {
          "output_type": "stream",
          "name": "stdout",
          "text": [
            "{1, 2, 3}\n"
          ]
        }
      ]
    },
    {
      "cell_type": "markdown",
      "source": [
        "19.  Write a code to find the union of two sets {1, 2, 3} and {3, 4, 5}?"
      ],
      "metadata": {
        "id": "ecRqodE02bty"
      }
    },
    {
      "cell_type": "code",
      "source": [
        "a = {1, 2, 3}\n",
        "b = {3, 4, 5}\n",
        "print(a.union(b))"
      ],
      "metadata": {
        "colab": {
          "base_uri": "https://localhost:8080/"
        },
        "id": "ZsdV0ddZ2fQL",
        "outputId": "e8456f44-a064-4ad1-a8b4-1aa26e25a68f"
      },
      "execution_count": 23,
      "outputs": [
        {
          "output_type": "stream",
          "name": "stdout",
          "text": [
            "{1, 2, 3, 4, 5}\n"
          ]
        }
      ]
    },
    {
      "cell_type": "markdown",
      "source": [
        "20. Write a code to find the intersection of two sets {1, 2, 3} and {2, 3, 4}?"
      ],
      "metadata": {
        "id": "PFNU-3iL2hmO"
      }
    },
    {
      "cell_type": "code",
      "source": [
        "a = {1, 2, 3}\n",
        "b = {2, 3, 4}\n",
        "print(a.intersection(b))"
      ],
      "metadata": {
        "colab": {
          "base_uri": "https://localhost:8080/"
        },
        "id": "yxjcerN_2lUO",
        "outputId": "d34753b0-ce56-474b-cce0-a425f74fb05f"
      },
      "execution_count": 24,
      "outputs": [
        {
          "output_type": "stream",
          "name": "stdout",
          "text": [
            "{2, 3}\n"
          ]
        }
      ]
    },
    {
      "cell_type": "markdown",
      "source": [
        "21. Write a code to create a dictionary with the keys \"name\", \"age\", and \"city\", and print it?"
      ],
      "metadata": {
        "id": "Jfci6Qzm2nmJ"
      }
    },
    {
      "cell_type": "code",
      "source": [
        "person = {\"name\": \"Deepak\", \"age\": 27, \"city\": \"Delhi\"}\n",
        "print(person)"
      ],
      "metadata": {
        "colab": {
          "base_uri": "https://localhost:8080/"
        },
        "id": "OFg3iIM32q6x",
        "outputId": "40ae3bd3-81b1-4d93-b1a7-50854ed88d0a"
      },
      "execution_count": 26,
      "outputs": [
        {
          "output_type": "stream",
          "name": "stdout",
          "text": [
            "{'name': 'Deepak', 'age': 27, 'city': 'Delhi'}\n"
          ]
        }
      ]
    },
    {
      "cell_type": "markdown",
      "source": [
        "22. Write a code to add a new key-value pair \"country\": \"USA\" to the dictionary {'name': 'John', 'age': 25}?"
      ],
      "metadata": {
        "id": "sesycBz62uWq"
      }
    },
    {
      "cell_type": "code",
      "source": [
        "person = {'name': 'John', 'age': 25}\n",
        "person[\"country\"] = \"USA\"\n",
        "print(person)"
      ],
      "metadata": {
        "colab": {
          "base_uri": "https://localhost:8080/"
        },
        "id": "dBuTjgHD2yAE",
        "outputId": "a233060e-e017-4291-dfdc-b64b97aa92ed"
      },
      "execution_count": 27,
      "outputs": [
        {
          "output_type": "stream",
          "name": "stdout",
          "text": [
            "{'name': 'John', 'age': 25, 'country': 'USA'}\n"
          ]
        }
      ]
    },
    {
      "cell_type": "markdown",
      "source": [
        "23. Write a code to access the value associated with the key \"name\" in the dictionary {'name': 'Alice', 'age': 30}?"
      ],
      "metadata": {
        "id": "ra0Fc_yW20OP"
      }
    },
    {
      "cell_type": "code",
      "source": [
        "data = {'name': 'Alice', 'age': 30}\n",
        "print(data[\"name\"])"
      ],
      "metadata": {
        "colab": {
          "base_uri": "https://localhost:8080/"
        },
        "id": "35x74-Sw24nr",
        "outputId": "5f18c30f-82de-4510-b85e-76f3724ad562"
      },
      "execution_count": 28,
      "outputs": [
        {
          "output_type": "stream",
          "name": "stdout",
          "text": [
            "Alice\n"
          ]
        }
      ]
    },
    {
      "cell_type": "markdown",
      "source": [
        "24. Write a code to remove the key \"age\" from the dictionary {'name': 'Bob', 'age': 22, 'city': 'New York'}?"
      ],
      "metadata": {
        "id": "qc6VZWiX261b"
      }
    },
    {
      "cell_type": "code",
      "source": [
        "d = {'name': 'Bob', 'age': 22, 'city': 'New York'}\n",
        "del d[\"age\"]\n",
        "print(d)"
      ],
      "metadata": {
        "colab": {
          "base_uri": "https://localhost:8080/"
        },
        "id": "9VXy9VE_2-ho",
        "outputId": "3de485aa-d3b4-489a-e014-b25af7f8b395"
      },
      "execution_count": 30,
      "outputs": [
        {
          "output_type": "stream",
          "name": "stdout",
          "text": [
            "{'name': 'Bob', 'city': 'New York'}\n"
          ]
        }
      ]
    },
    {
      "cell_type": "markdown",
      "source": [
        "25.  Write a code to check if the key \"city\" exists in the dictionary {'name': 'Alice', 'city': 'Paris'}?"
      ],
      "metadata": {
        "id": "5wusDTV_3BHJ"
      }
    },
    {
      "cell_type": "code",
      "source": [
        "d = {'name': 'Alice', 'city': 'Paris'}\n",
        "print(\"city\" in d)"
      ],
      "metadata": {
        "colab": {
          "base_uri": "https://localhost:8080/"
        },
        "id": "vYQPh0Mj3F15",
        "outputId": "3bfe015a-8065-4d48-b8fc-c5c32960e7dc"
      },
      "execution_count": 31,
      "outputs": [
        {
          "output_type": "stream",
          "name": "stdout",
          "text": [
            "True\n"
          ]
        }
      ]
    },
    {
      "cell_type": "markdown",
      "source": [
        "26. Write a code to create a list, a tuple, and a dictionary, and print them all?"
      ],
      "metadata": {
        "id": "aPsXLn193IrQ"
      }
    },
    {
      "cell_type": "code",
      "source": [
        "my_list = [1, 2, 3]\n",
        "my_tuple = (4, 5, 6)\n",
        "my_dict = {\"a\": 1, \"b\": 2}\n",
        "print(my_list, my_tuple, my_dict)"
      ],
      "metadata": {
        "colab": {
          "base_uri": "https://localhost:8080/"
        },
        "id": "Bb5rEiDk3OYz",
        "outputId": "f759954e-aecd-4b5a-de2a-3a5ac72f9e2a"
      },
      "execution_count": 32,
      "outputs": [
        {
          "output_type": "stream",
          "name": "stdout",
          "text": [
            "[1, 2, 3] (4, 5, 6) {'a': 1, 'b': 2}\n"
          ]
        }
      ]
    },
    {
      "cell_type": "markdown",
      "source": [
        "27. Write a code to create a list of 5 random numbers between 1 and 100, sort it in ascending order, and print the\n",
        "result.(replaced)?"
      ],
      "metadata": {
        "id": "-m4jkdpi3Pjn"
      }
    },
    {
      "cell_type": "code",
      "source": [
        "import random\n",
        "lst = random.sample(range(1, 101), 5)\n",
        "lst.sort()\n",
        "print(lst)"
      ],
      "metadata": {
        "colab": {
          "base_uri": "https://localhost:8080/"
        },
        "id": "cubDtp8Y3Ua8",
        "outputId": "da5cc5f1-f1a7-477a-b15f-2e7a4db61e51"
      },
      "execution_count": 33,
      "outputs": [
        {
          "output_type": "stream",
          "name": "stdout",
          "text": [
            "[25, 62, 72, 76, 77]\n"
          ]
        }
      ]
    },
    {
      "cell_type": "markdown",
      "source": [
        "28. Write a code to create a list with strings and print the element at the third index?"
      ],
      "metadata": {
        "id": "vd_jPtK53Wtb"
      }
    },
    {
      "cell_type": "code",
      "source": [
        "words = [\"apple\", \"banana\", \"cherry\", \"date\", \"fig\"]\n",
        "print(words[3])"
      ],
      "metadata": {
        "colab": {
          "base_uri": "https://localhost:8080/"
        },
        "id": "7IIvs-hW3bHP",
        "outputId": "213dfe41-7354-4245-fd5e-75ae970715d3"
      },
      "execution_count": 34,
      "outputs": [
        {
          "output_type": "stream",
          "name": "stdout",
          "text": [
            "date\n"
          ]
        }
      ]
    },
    {
      "cell_type": "markdown",
      "source": [
        "29. Write a code to combine two dictionaries into one and print the result?"
      ],
      "metadata": {
        "id": "f4QKx1wL3ce8"
      }
    },
    {
      "cell_type": "code",
      "source": [
        "dict1 = {\"a\": 1, \"b\": 2}\n",
        "dict2 = {\"c\": 3, \"d\": 4}\n",
        "merged = {**dict1, **dict2}\n",
        "print(merged)"
      ],
      "metadata": {
        "colab": {
          "base_uri": "https://localhost:8080/"
        },
        "id": "G3xgs9Lo3gwI",
        "outputId": "f385d34c-5393-4433-8def-8d30fd0c1b2d"
      },
      "execution_count": 35,
      "outputs": [
        {
          "output_type": "stream",
          "name": "stdout",
          "text": [
            "{'a': 1, 'b': 2, 'c': 3, 'd': 4}\n"
          ]
        }
      ]
    },
    {
      "cell_type": "markdown",
      "source": [
        "30. Write a code to convert a list of strings into a set?"
      ],
      "metadata": {
        "id": "2XIxSmvc3h-C"
      }
    },
    {
      "cell_type": "code",
      "source": [
        "str_list = [\"apple\", \"banana\", \"apple\"]\n",
        "str_set = set(str_list)\n",
        "print(str_set)"
      ],
      "metadata": {
        "colab": {
          "base_uri": "https://localhost:8080/"
        },
        "id": "eTK9BqMK3mgJ",
        "outputId": "1f8a1e23-1c94-4e6d-f706-8f888797462a"
      },
      "execution_count": 36,
      "outputs": [
        {
          "output_type": "stream",
          "name": "stdout",
          "text": [
            "{'banana', 'apple'}\n"
          ]
        }
      ]
    }
  ]
}